{
 "cells": [
  {
   "cell_type": "code",
   "execution_count": 1,
   "source": [
    "import pandas as pd\n",
    "import plotly.express as px \n",
    "import plotly.graph_objects as go"
   ],
   "outputs": [],
   "metadata": {}
  },
  {
   "cell_type": "code",
   "execution_count": 4,
   "source": [
    "pd.options.display.max_columns = None"
   ],
   "outputs": [],
   "metadata": {}
  },
  {
   "cell_type": "code",
   "execution_count": 5,
   "source": [
    "sales = pd.read_csv(\"../datasets/SunburstCharts/Global_Superstore.csv\")\n",
    "sales.head()"
   ],
   "outputs": [
    {
     "output_type": "execute_result",
     "data": {
      "text/html": [
       "<div>\n",
       "<style scoped>\n",
       "    .dataframe tbody tr th:only-of-type {\n",
       "        vertical-align: middle;\n",
       "    }\n",
       "\n",
       "    .dataframe tbody tr th {\n",
       "        vertical-align: top;\n",
       "    }\n",
       "\n",
       "    .dataframe thead th {\n",
       "        text-align: right;\n",
       "    }\n",
       "</style>\n",
       "<table border=\"1\" class=\"dataframe\">\n",
       "  <thead>\n",
       "    <tr style=\"text-align: right;\">\n",
       "      <th></th>\n",
       "      <th>Row ID</th>\n",
       "      <th>Order ID</th>\n",
       "      <th>Order Date</th>\n",
       "      <th>Ship Date</th>\n",
       "      <th>Ship Mode</th>\n",
       "      <th>Customer ID</th>\n",
       "      <th>Customer Name</th>\n",
       "      <th>Segment</th>\n",
       "      <th>City</th>\n",
       "      <th>State</th>\n",
       "      <th>Country</th>\n",
       "      <th>Postal Code</th>\n",
       "      <th>Market</th>\n",
       "      <th>Region</th>\n",
       "      <th>Product ID</th>\n",
       "      <th>Category</th>\n",
       "      <th>Sub-Category</th>\n",
       "      <th>Product Name</th>\n",
       "      <th>Sales</th>\n",
       "      <th>Quantity</th>\n",
       "      <th>Discount</th>\n",
       "      <th>Profit</th>\n",
       "      <th>Shipping Cost</th>\n",
       "      <th>Order Priority</th>\n",
       "    </tr>\n",
       "  </thead>\n",
       "  <tbody>\n",
       "    <tr>\n",
       "      <th>0</th>\n",
       "      <td>32298</td>\n",
       "      <td>CA-2012-124891</td>\n",
       "      <td>31/07/12</td>\n",
       "      <td>31/07/12</td>\n",
       "      <td>Same Day</td>\n",
       "      <td>RH-19495</td>\n",
       "      <td>Rick Hansen</td>\n",
       "      <td>Consumer</td>\n",
       "      <td>New York City</td>\n",
       "      <td>New York</td>\n",
       "      <td>United States</td>\n",
       "      <td>10024.0</td>\n",
       "      <td>US</td>\n",
       "      <td>East</td>\n",
       "      <td>TEC-AC-10003033</td>\n",
       "      <td>Technology</td>\n",
       "      <td>Accessories</td>\n",
       "      <td>Plantronics CS510 - Over-the-Head monaural Wir...</td>\n",
       "      <td>2309.650</td>\n",
       "      <td>7</td>\n",
       "      <td>0.0</td>\n",
       "      <td>762.1845</td>\n",
       "      <td>933.57</td>\n",
       "      <td>Critical</td>\n",
       "    </tr>\n",
       "    <tr>\n",
       "      <th>1</th>\n",
       "      <td>26341</td>\n",
       "      <td>IN-2013-77878</td>\n",
       "      <td>05/02/13</td>\n",
       "      <td>07/02/13</td>\n",
       "      <td>Second Class</td>\n",
       "      <td>JR-16210</td>\n",
       "      <td>Justin Ritter</td>\n",
       "      <td>Corporate</td>\n",
       "      <td>Wollongong</td>\n",
       "      <td>New South Wales</td>\n",
       "      <td>Australia</td>\n",
       "      <td>NaN</td>\n",
       "      <td>APAC</td>\n",
       "      <td>Oceania</td>\n",
       "      <td>FUR-CH-10003950</td>\n",
       "      <td>Furniture</td>\n",
       "      <td>Chairs</td>\n",
       "      <td>Novimex Executive Leather Armchair, Black</td>\n",
       "      <td>3709.395</td>\n",
       "      <td>9</td>\n",
       "      <td>0.1</td>\n",
       "      <td>-288.7650</td>\n",
       "      <td>923.63</td>\n",
       "      <td>Critical</td>\n",
       "    </tr>\n",
       "    <tr>\n",
       "      <th>2</th>\n",
       "      <td>25330</td>\n",
       "      <td>IN-2013-71249</td>\n",
       "      <td>17/10/13</td>\n",
       "      <td>18/10/13</td>\n",
       "      <td>First Class</td>\n",
       "      <td>CR-12730</td>\n",
       "      <td>Craig Reiter</td>\n",
       "      <td>Consumer</td>\n",
       "      <td>Brisbane</td>\n",
       "      <td>Queensland</td>\n",
       "      <td>Australia</td>\n",
       "      <td>NaN</td>\n",
       "      <td>APAC</td>\n",
       "      <td>Oceania</td>\n",
       "      <td>TEC-PH-10004664</td>\n",
       "      <td>Technology</td>\n",
       "      <td>Phones</td>\n",
       "      <td>Nokia Smart Phone, with Caller ID</td>\n",
       "      <td>5175.171</td>\n",
       "      <td>9</td>\n",
       "      <td>0.1</td>\n",
       "      <td>919.9710</td>\n",
       "      <td>915.49</td>\n",
       "      <td>Medium</td>\n",
       "    </tr>\n",
       "    <tr>\n",
       "      <th>3</th>\n",
       "      <td>13524</td>\n",
       "      <td>ES-2013-1579342</td>\n",
       "      <td>28/01/13</td>\n",
       "      <td>30/01/13</td>\n",
       "      <td>First Class</td>\n",
       "      <td>KM-16375</td>\n",
       "      <td>Katherine Murray</td>\n",
       "      <td>Home Office</td>\n",
       "      <td>Berlin</td>\n",
       "      <td>Berlin</td>\n",
       "      <td>Germany</td>\n",
       "      <td>NaN</td>\n",
       "      <td>EU</td>\n",
       "      <td>Central</td>\n",
       "      <td>TEC-PH-10004583</td>\n",
       "      <td>Technology</td>\n",
       "      <td>Phones</td>\n",
       "      <td>Motorola Smart Phone, Cordless</td>\n",
       "      <td>2892.510</td>\n",
       "      <td>5</td>\n",
       "      <td>0.1</td>\n",
       "      <td>-96.5400</td>\n",
       "      <td>910.16</td>\n",
       "      <td>Medium</td>\n",
       "    </tr>\n",
       "    <tr>\n",
       "      <th>4</th>\n",
       "      <td>47221</td>\n",
       "      <td>SG-2013-4320</td>\n",
       "      <td>05/11/13</td>\n",
       "      <td>06/11/13</td>\n",
       "      <td>Same Day</td>\n",
       "      <td>RH-9495</td>\n",
       "      <td>Rick Hansen</td>\n",
       "      <td>Consumer</td>\n",
       "      <td>Dakar</td>\n",
       "      <td>Dakar</td>\n",
       "      <td>Senegal</td>\n",
       "      <td>NaN</td>\n",
       "      <td>Africa</td>\n",
       "      <td>Africa</td>\n",
       "      <td>TEC-SHA-10000501</td>\n",
       "      <td>Technology</td>\n",
       "      <td>Copiers</td>\n",
       "      <td>Sharp Wireless Fax, High-Speed</td>\n",
       "      <td>2832.960</td>\n",
       "      <td>8</td>\n",
       "      <td>0.0</td>\n",
       "      <td>311.5200</td>\n",
       "      <td>903.04</td>\n",
       "      <td>Critical</td>\n",
       "    </tr>\n",
       "  </tbody>\n",
       "</table>\n",
       "</div>"
      ],
      "text/plain": [
       "   Row ID         Order ID Order Date Ship Date     Ship Mode Customer ID  \\\n",
       "0   32298   CA-2012-124891   31/07/12  31/07/12      Same Day    RH-19495   \n",
       "1   26341    IN-2013-77878   05/02/13  07/02/13  Second Class    JR-16210   \n",
       "2   25330    IN-2013-71249   17/10/13  18/10/13   First Class    CR-12730   \n",
       "3   13524  ES-2013-1579342   28/01/13  30/01/13   First Class    KM-16375   \n",
       "4   47221     SG-2013-4320   05/11/13  06/11/13      Same Day     RH-9495   \n",
       "\n",
       "      Customer Name      Segment           City            State  \\\n",
       "0       Rick Hansen     Consumer  New York City         New York   \n",
       "1     Justin Ritter    Corporate     Wollongong  New South Wales   \n",
       "2      Craig Reiter     Consumer       Brisbane       Queensland   \n",
       "3  Katherine Murray  Home Office         Berlin           Berlin   \n",
       "4       Rick Hansen     Consumer          Dakar            Dakar   \n",
       "\n",
       "         Country  Postal Code  Market   Region        Product ID    Category  \\\n",
       "0  United States      10024.0      US     East   TEC-AC-10003033  Technology   \n",
       "1      Australia          NaN    APAC  Oceania   FUR-CH-10003950   Furniture   \n",
       "2      Australia          NaN    APAC  Oceania   TEC-PH-10004664  Technology   \n",
       "3        Germany          NaN      EU  Central   TEC-PH-10004583  Technology   \n",
       "4        Senegal          NaN  Africa   Africa  TEC-SHA-10000501  Technology   \n",
       "\n",
       "  Sub-Category                                       Product Name     Sales  \\\n",
       "0  Accessories  Plantronics CS510 - Over-the-Head monaural Wir...  2309.650   \n",
       "1       Chairs          Novimex Executive Leather Armchair, Black  3709.395   \n",
       "2       Phones                  Nokia Smart Phone, with Caller ID  5175.171   \n",
       "3       Phones                     Motorola Smart Phone, Cordless  2892.510   \n",
       "4      Copiers                     Sharp Wireless Fax, High-Speed  2832.960   \n",
       "\n",
       "   Quantity  Discount    Profit  Shipping Cost Order Priority  \n",
       "0         7       0.0  762.1845         933.57       Critical  \n",
       "1         9       0.1 -288.7650         923.63       Critical  \n",
       "2         9       0.1  919.9710         915.49         Medium  \n",
       "3         5       0.1  -96.5400         910.16         Medium  \n",
       "4         8       0.0  311.5200         903.04       Critical  "
      ]
     },
     "metadata": {},
     "execution_count": 5
    }
   ],
   "metadata": {}
  },
  {
   "cell_type": "code",
   "execution_count": 20,
   "source": [
    "fig = px.sunburst(data_frame=sales,\n",
    "                  path=[\"Market\", \"Region\", \"Country\"],\n",
    "                  values=\"Sales\",\n",
    "                  color=\"Profit\",\n",
    "                  color_continuous_scale=\"RdBu\",\n",
    "                  width=1000,\n",
    "                  height=1000)\n",
    "fig.show()"
   ],
   "outputs": [
    {
     "output_type": "display_data",
     "data": {
      "application/vnd.plotly.v1+json": {
       "config": {
        "plotlyServerURL": "https://plot.ly"
       },
       "data": [
        {
         "branchvalues": "total",
         "customdata": [
          [
           371.1101173654982
          ],
          [
           143.68072814110675
          ],
          [
           173.23657615250534
          ],
          [
           182.52186980511857
          ],
          [
           -142.60787397929695
          ],
          [
           33.18469090909091
          ],
          [
           164.7157681163821
          ],
          [
           275.0806485584387
          ],
          [
           128.24282249792347
          ],
          [
           428.9655258181199
          ],
          [
           6.263756836725545
          ],
          [
           418.0573026460304
          ],
          [
           265.55864049460104
          ],
          [
           354.93775846419675
          ],
          [
           250.24969249005113
          ],
          [
           154.87568274343332
          ],
          [
           91.09305914261576
          ],
          [
           112.85060444126404
          ],
          [
           114.33150187473218
          ],
          [
           126.87902716607402
          ],
          [
           69.39461228148812
          ],
          [
           335.2846535137863
          ],
          [
           251.40780903891246
          ],
          [
           245.13077797734496
          ],
          [
           162.50706102054204
          ],
          [
           88.07088676795517
          ],
          [
           123.96519935831428
          ],
          [
           260.9016060163109
          ],
          [
           178.1170813961428
          ],
          [
           390.5394276757472
          ],
          [
           139.5653051658978
          ],
          [
           175.05537417558645
          ],
          [
           88.18724367109434
          ],
          [
           416.91489199302936
          ],
          [
           -161.4340600222064
          ],
          [
           169.14339622641515
          ],
          [
           -12.688282326166492
          ],
          [
           145.85622741189601
          ],
          [
           190.7767469525544
          ],
          [
           186.8827113158701
          ],
          [
           35.16734303368547
          ],
          [
           66.39089165867689
          ],
          [
           255.53051872388303
          ],
          [
           88.34808915849615
          ],
          [
           143.9360004926501
          ],
          [
           126.9745413593974
          ],
          [
           89.14729581613607
          ],
          [
           193.27607686525087
          ],
          [
           173.04376578482584
          ],
          [
           196.5659328101353
          ],
          [
           79.31070386688926
          ],
          [
           179.02720101267488
          ],
          [
           139.41898772821997
          ],
          [
           97.9675094410876
          ],
          [
           -110.56748128240628
          ],
          [
           -146.45478053831192
          ],
          [
           315.6327636896047
          ],
          [
           208.4768891367717
          ],
          [
           315.68302709193114
          ],
          [
           100.19014890544331
          ],
          [
           199.59039769887517
          ],
          [
           249.32806330499415
          ],
          [
           -168.29719941429764
          ],
          [
           106.84976507301725
          ],
          [
           206.371877118836
          ],
          [
           127.52647448611087
          ],
          [
           483.46322419847894
          ],
          [
           120.751996765013
          ],
          [
           -235.624108036489
          ],
          [
           134.8561620326032
          ],
          [
           127.26988901944657
          ],
          [
           127.38408090364939
          ],
          [
           568.573424528344
          ],
          [
           234.634176888859
          ],
          [
           329.49953088981084
          ],
          [
           -1259.5992646249472
          ],
          [
           11.261419576416712
          ],
          [
           170.1293280787475
          ],
          [
           217.71673831662844
          ],
          [
           254.8108007767147
          ],
          [
           140.09628546081197
          ],
          [
           474.5181484880363
          ],
          [
           143.0081109547606
          ],
          [
           67.59715789903753
          ],
          [
           135.1131582713668
          ],
          [
           -17.01
          ],
          [
           817.6584541388534
          ],
          [
           329.40143272681917
          ],
          [
           277.22998559349725
          ],
          [
           -17.34577462397593
          ],
          [
           282.79220871400634
          ],
          [
           107.77887775960752
          ],
          [
           -403.4259920567188
          ],
          [
           242.2883607800656
          ],
          [
           170.13455006242194
          ],
          [
           128.31737890330464
          ],
          [
           -418.40052746878257
          ],
          [
           186.5362754483841
          ],
          [
           -435.0121850896984
          ],
          [
           -151.54615964451895
          ],
          [
           3.135133715146333
          ],
          [
           51.526434106211475
          ],
          [
           -83.28716487510466
          ],
          [
           -28.088215434071817
          ],
          [
           154.81777394619124
          ],
          [
           -866.0161107161015
          ],
          [
           394.8213954180304
          ],
          [
           66.76491558032309
          ],
          [
           120.13978423140288
          ],
          [
           276.9834539705535
          ],
          [
           102.84183687967837
          ],
          [
           278.61658178539295
          ],
          [
           422.0934458783524
          ],
          [
           86.23462733946978
          ],
          [
           133.72556110583636
          ],
          [
           14.353835113021775
          ],
          [
           424.17095146740684
          ],
          [
           144.88955511572925
          ],
          [
           197.0950745511677
          ],
          [
           -226.74180070564626
          ],
          [
           72.93019108280255
          ],
          [
           270.0788237160395
          ],
          [
           9.352806931041771
          ],
          [
           111.54146618094487
          ],
          [
           49.99211748776168
          ],
          [
           -480.01181021972
          ],
          [
           408.67119377229386
          ],
          [
           73.70319553951225
          ],
          [
           296.4678679669388
          ],
          [
           -243.5166245551601
          ],
          [
           203.2247080277664
          ],
          [
           7.412714497740918
          ],
          [
           39.926231279031065
          ],
          [
           401.97504237568154
          ],
          [
           201.5804777401053
          ],
          [
           -450.7626524175354
          ],
          [
           -338.3263850703062
          ],
          [
           -154.61900344033512
          ],
          [
           297.57985896846515
          ],
          [
           -143.93996248185775
          ],
          [
           331.07247290415404
          ],
          [
           564.5614154291701
          ],
          [
           375.02023003483123
          ],
          [
           33.7623526013692
          ],
          [
           295.01253517446355
          ],
          [
           355.3837836035544
          ],
          [
           113.23120219048904
          ],
          [
           -201.1088349700085
          ],
          [
           34.33800115703813
          ],
          [
           -396.3916358479823
          ],
          [
           268.09421039350104
          ],
          [
           -309.8142187739784
          ],
          [
           207.24586004263293
          ],
          [
           245.13077797734496
          ],
          [
           97.05480470398594
          ],
          [
           134.50307074794836
          ],
          [
           101.91219648629483
          ],
          [
           564.5614154291701
          ],
          [
           267.8952927514273
          ],
          [
           116.41816066703183
          ],
          [
           375.02023003483123
          ],
          [
           260.52000446014165
          ],
          [
           143.0081109547606
          ],
          [
           269.0063220289582
          ],
          [
           176.4146736855069
          ],
          [
           209.91043345085825
          ],
          [
           83.84328995826739
          ],
          [
           33.7623526013692
          ],
          [
           70.39454073980016
          ],
          [
           295.01253517446355
          ],
          [
           191.37636014148168
          ],
          [
           207.24586004263293
          ],
          [
           245.13077797734496
          ],
          [
           116.41816066703183
          ],
          [
           176.52742440156564
          ],
          [
           107.85240896936023
          ],
          [
           332.91908306792504
          ]
         ],
         "domain": {
          "x": [
           0,
           1
          ],
          "y": [
           0,
           1
          ]
         },
         "hovertemplate": "labels=%{label}<br>Sales=%{value}<br>parent=%{parent}<br>id=%{id}<br>Profit=%{color}<extra></extra>",
         "ids": [
          "APAC/Central Asia/Afghanistan",
          "EMEA/EMEA/Albania",
          "Africa/Africa/Algeria",
          "Africa/Africa/Angola",
          "LATAM/South/Argentina",
          "EMEA/EMEA/Armenia",
          "APAC/Oceania/Australia",
          "EU/Central/Austria",
          "EMEA/EMEA/Austria",
          "EMEA/EMEA/Azerbaijan",
          "EMEA/EMEA/Bahrain",
          "APAC/Central Asia/Bangladesh",
          "LATAM/Caribbean/Barbados",
          "EMEA/EMEA/Belarus",
          "EU/Central/Belgium",
          "Africa/Africa/Benin",
          "LATAM/South/Bolivia",
          "EMEA/EMEA/Bosnia and Herzegovina",
          "LATAM/South/Brazil",
          "EMEA/EMEA/Bulgaria",
          "Africa/Africa/Burundi",
          "APAC/Southeast Asia/Cambodia",
          "Africa/Africa/Cameroon",
          "Canada/Canada/Canada",
          "Africa/Africa/Central African Republic",
          "Africa/Africa/Chad",
          "LATAM/South/Chile",
          "APAC/North Asia/China",
          "LATAM/South/Colombia",
          "Africa/Africa/Cote d'Ivoire",
          "EMEA/EMEA/Croatia",
          "LATAM/Caribbean/Cuba",
          "EMEA/EMEA/Czech Republic",
          "Africa/Africa/Democratic Republic of the Congo",
          "EU/North/Denmark",
          "Africa/Africa/Djibouti",
          "LATAM/Caribbean/Dominican Republic",
          "LATAM/South/Ecuador",
          "Africa/Africa/Egypt",
          "LATAM/Central/El Salvador",
          "Africa/Africa/Equatorial Guinea",
          "Africa/Africa/Eritrea",
          "EMEA/EMEA/Estonia",
          "Africa/Africa/Ethiopia",
          "EU/North/Finland",
          "EU/Central/France",
          "Africa/Africa/Gabon",
          "EMEA/EMEA/Georgia",
          "EU/Central/Germany",
          "Africa/Africa/Ghana",
          "LATAM/Caribbean/Guadeloupe",
          "LATAM/Central/Guatemala",
          "Africa/Africa/Guinea",
          "Africa/Africa/Guinea-Bissau",
          "LATAM/Caribbean/Haiti",
          "LATAM/Central/Honduras",
          "APAC/North Asia/Hong Kong",
          "EMEA/EMEA/Hungary",
          "APAC/Central Asia/India",
          "APAC/Southeast Asia/Indonesia",
          "EMEA/EMEA/Iran",
          "EMEA/EMEA/Iraq",
          "EU/North/Ireland",
          "EMEA/EMEA/Israel",
          "EU/South/Italy",
          "LATAM/Caribbean/Jamaica",
          "APAC/North Asia/Japan",
          "EMEA/EMEA/Jordan",
          "EMEA/EMEA/Kazakhstan",
          "Africa/Africa/Kenya",
          "EMEA/EMEA/Kyrgyzstan",
          "EMEA/EMEA/Lebanon",
          "Africa/Africa/Lesotho",
          "Africa/Africa/Liberia",
          "Africa/Africa/Libya",
          "EMEA/EMEA/Lithuania",
          "EMEA/EMEA/Macedonia",
          "Africa/Africa/Madagascar",
          "APAC/Southeast Asia/Malaysia",
          "Africa/Africa/Mali",
          "LATAM/Caribbean/Martinique",
          "Africa/Africa/Mauritania",
          "LATAM/North/Mexico",
          "EMEA/EMEA/Moldova",
          "EMEA/EMEA/Mongolia",
          "APAC/North Asia/Mongolia",
          "EMEA/EMEA/Montenegro",
          "Africa/Africa/Morocco",
          "Africa/Africa/Mozambique",
          "APAC/Southeast Asia/Myanmar (Burma)",
          "Africa/Africa/Namibia",
          "APAC/Central Asia/Nepal",
          "EU/Central/Netherlands",
          "APAC/Oceania/New Zealand",
          "LATAM/Central/Nicaragua",
          "Africa/Africa/Niger",
          "Africa/Africa/Nigeria",
          "EU/North/Norway",
          "APAC/Central Asia/Pakistan",
          "LATAM/Central/Panama",
          "APAC/Oceania/Papua New Guinea",
          "LATAM/South/Paraguay",
          "LATAM/South/Peru",
          "APAC/Southeast Asia/Philippines",
          "EMEA/EMEA/Poland",
          "EU/South/Portugal",
          "EMEA/EMEA/Qatar",
          "Africa/Africa/Republic of the Congo",
          "EMEA/EMEA/Romania",
          "EMEA/EMEA/Russia",
          "Africa/Africa/Rwanda",
          "EMEA/EMEA/Saudi Arabia",
          "Africa/Africa/Senegal",
          "Africa/Africa/Sierra Leone",
          "APAC/Southeast Asia/Singapore",
          "EMEA/EMEA/Slovakia",
          "EMEA/EMEA/Slovenia",
          "Africa/Africa/Somalia",
          "Africa/Africa/South Africa",
          "APAC/North Asia/South Korea",
          "Africa/Africa/South Sudan",
          "EU/South/Spain",
          "APAC/Central Asia/Sri Lanka",
          "Africa/Africa/Sudan",
          "Africa/Africa/Swaziland",
          "EU/North/Sweden",
          "EU/Central/Switzerland",
          "EMEA/EMEA/Syria",
          "APAC/North Asia/Taiwan",
          "EMEA/EMEA/Tajikistan",
          "Africa/Africa/Tanzania",
          "APAC/Southeast Asia/Thailand",
          "Africa/Africa/Togo",
          "LATAM/Caribbean/Trinidad and Tobago",
          "Africa/Africa/Tunisia",
          "EMEA/EMEA/Turkey",
          "EMEA/EMEA/Turkmenistan",
          "Africa/Africa/Uganda",
          "EMEA/EMEA/Ukraine",
          "EMEA/EMEA/United Arab Emirates",
          "EU/North/United Kingdom",
          "US/Central/United States",
          "US/East/United States",
          "US/South/United States",
          "US/West/United States",
          "LATAM/South/Uruguay",
          "EMEA/EMEA/Uzbekistan",
          "LATAM/South/Venezuela",
          "APAC/Southeast Asia/Vietnam",
          "EMEA/EMEA/Yemen",
          "Africa/Africa/Zambia",
          "Africa/Africa/Zimbabwe",
          "Africa/Africa",
          "Canada/Canada",
          "LATAM/Caribbean",
          "EU/Central",
          "LATAM/Central",
          "US/Central",
          "APAC/Central Asia",
          "EMEA/EMEA",
          "US/East",
          "EU/North",
          "LATAM/North",
          "APAC/North Asia",
          "APAC/Oceania",
          "EU/South",
          "LATAM/South",
          "US/South",
          "APAC/Southeast Asia",
          "US/West",
          "APAC",
          "Africa",
          "Canada",
          "EMEA",
          "EU",
          "LATAM",
          "US"
         ],
         "labels": [
          "Afghanistan",
          "Albania",
          "Algeria",
          "Angola",
          "Argentina",
          "Armenia",
          "Australia",
          "Austria",
          "Austria",
          "Azerbaijan",
          "Bahrain",
          "Bangladesh",
          "Barbados",
          "Belarus",
          "Belgium",
          "Benin",
          "Bolivia",
          "Bosnia and Herzegovina",
          "Brazil",
          "Bulgaria",
          "Burundi",
          "Cambodia",
          "Cameroon",
          "Canada",
          "Central African Republic",
          "Chad",
          "Chile",
          "China",
          "Colombia",
          "Cote d'Ivoire",
          "Croatia",
          "Cuba",
          "Czech Republic",
          "Democratic Republic of the Congo",
          "Denmark",
          "Djibouti",
          "Dominican Republic",
          "Ecuador",
          "Egypt",
          "El Salvador",
          "Equatorial Guinea",
          "Eritrea",
          "Estonia",
          "Ethiopia",
          "Finland",
          "France",
          "Gabon",
          "Georgia",
          "Germany",
          "Ghana",
          "Guadeloupe",
          "Guatemala",
          "Guinea",
          "Guinea-Bissau",
          "Haiti",
          "Honduras",
          "Hong Kong",
          "Hungary",
          "India",
          "Indonesia",
          "Iran",
          "Iraq",
          "Ireland",
          "Israel",
          "Italy",
          "Jamaica",
          "Japan",
          "Jordan",
          "Kazakhstan",
          "Kenya",
          "Kyrgyzstan",
          "Lebanon",
          "Lesotho",
          "Liberia",
          "Libya",
          "Lithuania",
          "Macedonia",
          "Madagascar",
          "Malaysia",
          "Mali",
          "Martinique",
          "Mauritania",
          "Mexico",
          "Moldova",
          "Mongolia",
          "Mongolia",
          "Montenegro",
          "Morocco",
          "Mozambique",
          "Myanmar (Burma)",
          "Namibia",
          "Nepal",
          "Netherlands",
          "New Zealand",
          "Nicaragua",
          "Niger",
          "Nigeria",
          "Norway",
          "Pakistan",
          "Panama",
          "Papua New Guinea",
          "Paraguay",
          "Peru",
          "Philippines",
          "Poland",
          "Portugal",
          "Qatar",
          "Republic of the Congo",
          "Romania",
          "Russia",
          "Rwanda",
          "Saudi Arabia",
          "Senegal",
          "Sierra Leone",
          "Singapore",
          "Slovakia",
          "Slovenia",
          "Somalia",
          "South Africa",
          "South Korea",
          "South Sudan",
          "Spain",
          "Sri Lanka",
          "Sudan",
          "Swaziland",
          "Sweden",
          "Switzerland",
          "Syria",
          "Taiwan",
          "Tajikistan",
          "Tanzania",
          "Thailand",
          "Togo",
          "Trinidad and Tobago",
          "Tunisia",
          "Turkey",
          "Turkmenistan",
          "Uganda",
          "Ukraine",
          "United Arab Emirates",
          "United Kingdom",
          "United States",
          "United States",
          "United States",
          "United States",
          "Uruguay",
          "Uzbekistan",
          "Venezuela",
          "Vietnam",
          "Yemen",
          "Zambia",
          "Zimbabwe",
          "Africa",
          "Canada",
          "Caribbean",
          "Central",
          "Central",
          "Central",
          "Central Asia",
          "EMEA",
          "East",
          "North",
          "North",
          "North Asia",
          "Oceania",
          "South",
          "South",
          "South",
          "Southeast Asia",
          "West",
          "APAC",
          "Africa",
          "Canada",
          "EMEA",
          "EU",
          "LATAM",
          "US"
         ],
         "marker": {
          "coloraxis": "coloraxis",
          "colors": [
           371.1101173654982,
           143.68072814110675,
           173.23657615250534,
           182.52186980511857,
           -142.60787397929695,
           33.18469090909091,
           164.7157681163821,
           275.0806485584387,
           128.24282249792347,
           428.9655258181199,
           6.263756836725545,
           418.0573026460304,
           265.55864049460104,
           354.93775846419675,
           250.24969249005113,
           154.87568274343332,
           91.09305914261576,
           112.85060444126404,
           114.33150187473218,
           126.87902716607402,
           69.39461228148812,
           335.2846535137863,
           251.40780903891246,
           245.13077797734496,
           162.50706102054204,
           88.07088676795517,
           123.96519935831428,
           260.9016060163109,
           178.1170813961428,
           390.5394276757472,
           139.5653051658978,
           175.05537417558645,
           88.18724367109434,
           416.91489199302936,
           -161.4340600222064,
           169.14339622641515,
           -12.688282326166492,
           145.85622741189601,
           190.7767469525544,
           186.8827113158701,
           35.16734303368547,
           66.39089165867689,
           255.53051872388303,
           88.34808915849615,
           143.9360004926501,
           126.9745413593974,
           89.14729581613607,
           193.27607686525087,
           173.04376578482584,
           196.5659328101353,
           79.31070386688926,
           179.02720101267488,
           139.41898772821997,
           97.9675094410876,
           -110.56748128240628,
           -146.45478053831192,
           315.6327636896047,
           208.4768891367717,
           315.68302709193114,
           100.19014890544331,
           199.59039769887517,
           249.32806330499415,
           -168.29719941429764,
           106.84976507301725,
           206.371877118836,
           127.52647448611087,
           483.46322419847894,
           120.751996765013,
           -235.624108036489,
           134.8561620326032,
           127.26988901944657,
           127.38408090364939,
           568.573424528344,
           234.634176888859,
           329.49953088981084,
           -1259.5992646249472,
           11.261419576416712,
           170.1293280787475,
           217.71673831662844,
           254.8108007767147,
           140.09628546081197,
           474.5181484880363,
           143.0081109547606,
           67.59715789903753,
           135.1131582713668,
           -17.01,
           817.6584541388534,
           329.40143272681917,
           277.22998559349725,
           -17.34577462397593,
           282.79220871400634,
           107.77887775960752,
           -403.4259920567188,
           242.2883607800656,
           170.13455006242194,
           128.31737890330464,
           -418.40052746878257,
           186.5362754483841,
           -435.0121850896984,
           -151.54615964451895,
           3.135133715146333,
           51.526434106211475,
           -83.28716487510466,
           -28.088215434071817,
           154.81777394619124,
           -866.0161107161015,
           394.8213954180304,
           66.76491558032309,
           120.13978423140288,
           276.9834539705535,
           102.84183687967837,
           278.61658178539295,
           422.0934458783524,
           86.23462733946978,
           133.72556110583636,
           14.353835113021775,
           424.17095146740684,
           144.88955511572925,
           197.0950745511677,
           -226.74180070564626,
           72.93019108280255,
           270.0788237160395,
           9.352806931041771,
           111.54146618094487,
           49.99211748776168,
           -480.01181021972,
           408.67119377229386,
           73.70319553951225,
           296.4678679669388,
           -243.5166245551601,
           203.2247080277664,
           7.412714497740918,
           39.926231279031065,
           401.97504237568154,
           201.5804777401053,
           -450.7626524175354,
           -338.3263850703062,
           -154.61900344033512,
           297.57985896846515,
           -143.93996248185775,
           331.07247290415404,
           564.5614154291701,
           375.02023003483123,
           33.7623526013692,
           295.01253517446355,
           355.3837836035544,
           113.23120219048904,
           -201.1088349700085,
           34.33800115703813,
           -396.3916358479823,
           268.09421039350104,
           -309.8142187739784,
           207.24586004263293,
           245.13077797734496,
           97.05480470398594,
           134.50307074794836,
           101.91219648629483,
           564.5614154291701,
           267.8952927514273,
           116.41816066703183,
           375.02023003483123,
           260.52000446014165,
           143.0081109547606,
           269.0063220289582,
           176.4146736855069,
           209.91043345085825,
           83.84328995826739,
           33.7623526013692,
           70.39454073980016,
           295.01253517446355,
           191.37636014148168,
           207.24586004263293,
           245.13077797734496,
           116.41816066703183,
           176.52742440156564,
           107.85240896936023,
           332.91908306792504
          ]
         },
         "name": "",
         "parents": [
          "APAC/Central Asia",
          "EMEA/EMEA",
          "Africa/Africa",
          "Africa/Africa",
          "LATAM/South",
          "EMEA/EMEA",
          "APAC/Oceania",
          "EU/Central",
          "EMEA/EMEA",
          "EMEA/EMEA",
          "EMEA/EMEA",
          "APAC/Central Asia",
          "LATAM/Caribbean",
          "EMEA/EMEA",
          "EU/Central",
          "Africa/Africa",
          "LATAM/South",
          "EMEA/EMEA",
          "LATAM/South",
          "EMEA/EMEA",
          "Africa/Africa",
          "APAC/Southeast Asia",
          "Africa/Africa",
          "Canada/Canada",
          "Africa/Africa",
          "Africa/Africa",
          "LATAM/South",
          "APAC/North Asia",
          "LATAM/South",
          "Africa/Africa",
          "EMEA/EMEA",
          "LATAM/Caribbean",
          "EMEA/EMEA",
          "Africa/Africa",
          "EU/North",
          "Africa/Africa",
          "LATAM/Caribbean",
          "LATAM/South",
          "Africa/Africa",
          "LATAM/Central",
          "Africa/Africa",
          "Africa/Africa",
          "EMEA/EMEA",
          "Africa/Africa",
          "EU/North",
          "EU/Central",
          "Africa/Africa",
          "EMEA/EMEA",
          "EU/Central",
          "Africa/Africa",
          "LATAM/Caribbean",
          "LATAM/Central",
          "Africa/Africa",
          "Africa/Africa",
          "LATAM/Caribbean",
          "LATAM/Central",
          "APAC/North Asia",
          "EMEA/EMEA",
          "APAC/Central Asia",
          "APAC/Southeast Asia",
          "EMEA/EMEA",
          "EMEA/EMEA",
          "EU/North",
          "EMEA/EMEA",
          "EU/South",
          "LATAM/Caribbean",
          "APAC/North Asia",
          "EMEA/EMEA",
          "EMEA/EMEA",
          "Africa/Africa",
          "EMEA/EMEA",
          "EMEA/EMEA",
          "Africa/Africa",
          "Africa/Africa",
          "Africa/Africa",
          "EMEA/EMEA",
          "EMEA/EMEA",
          "Africa/Africa",
          "APAC/Southeast Asia",
          "Africa/Africa",
          "LATAM/Caribbean",
          "Africa/Africa",
          "LATAM/North",
          "EMEA/EMEA",
          "EMEA/EMEA",
          "APAC/North Asia",
          "EMEA/EMEA",
          "Africa/Africa",
          "Africa/Africa",
          "APAC/Southeast Asia",
          "Africa/Africa",
          "APAC/Central Asia",
          "EU/Central",
          "APAC/Oceania",
          "LATAM/Central",
          "Africa/Africa",
          "Africa/Africa",
          "EU/North",
          "APAC/Central Asia",
          "LATAM/Central",
          "APAC/Oceania",
          "LATAM/South",
          "LATAM/South",
          "APAC/Southeast Asia",
          "EMEA/EMEA",
          "EU/South",
          "EMEA/EMEA",
          "Africa/Africa",
          "EMEA/EMEA",
          "EMEA/EMEA",
          "Africa/Africa",
          "EMEA/EMEA",
          "Africa/Africa",
          "Africa/Africa",
          "APAC/Southeast Asia",
          "EMEA/EMEA",
          "EMEA/EMEA",
          "Africa/Africa",
          "Africa/Africa",
          "APAC/North Asia",
          "Africa/Africa",
          "EU/South",
          "APAC/Central Asia",
          "Africa/Africa",
          "Africa/Africa",
          "EU/North",
          "EU/Central",
          "EMEA/EMEA",
          "APAC/North Asia",
          "EMEA/EMEA",
          "Africa/Africa",
          "APAC/Southeast Asia",
          "Africa/Africa",
          "LATAM/Caribbean",
          "Africa/Africa",
          "EMEA/EMEA",
          "EMEA/EMEA",
          "Africa/Africa",
          "EMEA/EMEA",
          "EMEA/EMEA",
          "EU/North",
          "US/Central",
          "US/East",
          "US/South",
          "US/West",
          "LATAM/South",
          "EMEA/EMEA",
          "LATAM/South",
          "APAC/Southeast Asia",
          "EMEA/EMEA",
          "Africa/Africa",
          "Africa/Africa",
          "Africa",
          "Canada",
          "LATAM",
          "EU",
          "LATAM",
          "US",
          "APAC",
          "EMEA",
          "US",
          "EU",
          "LATAM",
          "APAC",
          "APAC",
          "EU",
          "LATAM",
          "US",
          "APAC",
          "US",
          "",
          "",
          "",
          "",
          "",
          "",
          ""
         ],
         "type": "sunburst",
         "values": [
          21673.32,
          3888.12,
          36091.59,
          25554,
          57511.78328,
          156.75,
          925235.853,
          81162,
          11377.05,
          5631.51,
          669.18,
          78256.47,
          7174.27392,
          13386.09,
          49226.7,
          6212.070000000001,
          11588.97,
          2599.26,
          361106.41896,
          15557.64,
          267.72,
          17476.02,
          22349.37,
          66928.17,
          2377.56,
          1317.03,
          35447.07072,
          700562.025,
          81502.52976,
          25618.17,
          4461.18,
          158854.93548,
          9573.93,
          87416.58,
          8638.053,
          2392.95,
          126140.58128,
          13342.98036,
          84139.32,
          177554.9032,
          150.51,
          187.73999999999998,
          4479.84,
          850.62,
          20704.35,
          858931.083,
          1751.73,
          5427.42,
          628840.0305,
          23272.26,
          1461.64,
          131602.46676,
          3498.27,
          2065.44,
          11038.329,
          90125.6486,
          6147,
          14254.050000000001,
          589650.105,
          404887.4979,
          113746.11,
          70714.8,
          16639.509000000002,
          19294.079999999998,
          289709.658,
          6761.7858400000005,
          100787.517,
          7326.15,
          4605.4439999999995,
          17573.13,
          5106.3,
          2796.66,
          6711.99,
          3560.88,
          7808.4,
          6724.332,
          209.64,
          12617.55,
          61362.21,
          8914.47,
          5968.15104,
          4020.9300000000003,
          622590.61752,
          5139.93,
          6749.61,
          40.23,
          4004.37,
          87077.94,
          21302.88,
          34138.8717,
          2899.47,
          3522.24,
          77514.945,
          172020.624,
          149687.06456,
          6922.98,
          54350.352,
          20525.37,
          58872.612,
          51539.92752,
          2928.135,
          2590.3675200000002,
          17833.18372,
          183420.165,
          44228.85,
          15105.119999999999,
          6049.8,
          2713.23,
          37256.58,
          82913.88,
          5194.08,
          82012.2,
          28848.9,
          2447.67,
          40286.25,
          865.3199999999999,
          1469.94,
          8185.05,
          95292.27,
          33125.379,
          1045.6200000000001,
          287146.68,
          851.8199999999999,
          16338.57,
          288.03000000000003,
          30491.403,
          24877.86,
          5310.63,
          7647.63,
          242.784,
          26816.139,
          77051.955,
          4146.42,
          6881.16448,
          1760.79,
          108507.948,
          2027.061,
          1621.935,
          86857.17,
          744.12,
          528576.3,
          501239.8908,
          678781.24,
          391721.905,
          725457.8245,
          9712.544,
          7329.87,
          26587.82956,
          65800.1994,
          2465.712,
          26035.5,
          3765.105,
          783773.211,
          66928.17,
          324280.86104,
          1720552.6185,
          600510.01064,
          501239.8908,
          752826.567,
          806161.311,
          678781.24,
          625574.985,
          622590.61752,
          848309.781,
          1100184.612,
          591961.458,
          617223.67788,
          391721.905,
          884423.169,
          725457.8245,
          3585744.129,
          783773.211,
          66928.17,
          806161.311,
          2938089.0615,
          2164605.16708,
          2297200.8603
         ]
        }
       ],
       "layout": {
        "coloraxis": {
         "colorbar": {
          "title": {
           "text": "Profit"
          }
         },
         "colorscale": [
          [
           0,
           "rgb(103,0,31)"
          ],
          [
           0.1,
           "rgb(178,24,43)"
          ],
          [
           0.2,
           "rgb(214,96,77)"
          ],
          [
           0.3,
           "rgb(244,165,130)"
          ],
          [
           0.4,
           "rgb(253,219,199)"
          ],
          [
           0.5,
           "rgb(247,247,247)"
          ],
          [
           0.6,
           "rgb(209,229,240)"
          ],
          [
           0.7,
           "rgb(146,197,222)"
          ],
          [
           0.8,
           "rgb(67,147,195)"
          ],
          [
           0.9,
           "rgb(33,102,172)"
          ],
          [
           1,
           "rgb(5,48,97)"
          ]
         ]
        },
        "height": 1000,
        "legend": {
         "tracegroupgap": 0
        },
        "margin": {
         "t": 60
        },
        "template": {
         "data": {
          "bar": [
           {
            "error_x": {
             "color": "#2a3f5f"
            },
            "error_y": {
             "color": "#2a3f5f"
            },
            "marker": {
             "line": {
              "color": "#E5ECF6",
              "width": 0.5
             },
             "pattern": {
              "fillmode": "overlay",
              "size": 10,
              "solidity": 0.2
             }
            },
            "type": "bar"
           }
          ],
          "barpolar": [
           {
            "marker": {
             "line": {
              "color": "#E5ECF6",
              "width": 0.5
             },
             "pattern": {
              "fillmode": "overlay",
              "size": 10,
              "solidity": 0.2
             }
            },
            "type": "barpolar"
           }
          ],
          "carpet": [
           {
            "aaxis": {
             "endlinecolor": "#2a3f5f",
             "gridcolor": "white",
             "linecolor": "white",
             "minorgridcolor": "white",
             "startlinecolor": "#2a3f5f"
            },
            "baxis": {
             "endlinecolor": "#2a3f5f",
             "gridcolor": "white",
             "linecolor": "white",
             "minorgridcolor": "white",
             "startlinecolor": "#2a3f5f"
            },
            "type": "carpet"
           }
          ],
          "choropleth": [
           {
            "colorbar": {
             "outlinewidth": 0,
             "ticks": ""
            },
            "type": "choropleth"
           }
          ],
          "contour": [
           {
            "colorbar": {
             "outlinewidth": 0,
             "ticks": ""
            },
            "colorscale": [
             [
              0,
              "#0d0887"
             ],
             [
              0.1111111111111111,
              "#46039f"
             ],
             [
              0.2222222222222222,
              "#7201a8"
             ],
             [
              0.3333333333333333,
              "#9c179e"
             ],
             [
              0.4444444444444444,
              "#bd3786"
             ],
             [
              0.5555555555555556,
              "#d8576b"
             ],
             [
              0.6666666666666666,
              "#ed7953"
             ],
             [
              0.7777777777777778,
              "#fb9f3a"
             ],
             [
              0.8888888888888888,
              "#fdca26"
             ],
             [
              1,
              "#f0f921"
             ]
            ],
            "type": "contour"
           }
          ],
          "contourcarpet": [
           {
            "colorbar": {
             "outlinewidth": 0,
             "ticks": ""
            },
            "type": "contourcarpet"
           }
          ],
          "heatmap": [
           {
            "colorbar": {
             "outlinewidth": 0,
             "ticks": ""
            },
            "colorscale": [
             [
              0,
              "#0d0887"
             ],
             [
              0.1111111111111111,
              "#46039f"
             ],
             [
              0.2222222222222222,
              "#7201a8"
             ],
             [
              0.3333333333333333,
              "#9c179e"
             ],
             [
              0.4444444444444444,
              "#bd3786"
             ],
             [
              0.5555555555555556,
              "#d8576b"
             ],
             [
              0.6666666666666666,
              "#ed7953"
             ],
             [
              0.7777777777777778,
              "#fb9f3a"
             ],
             [
              0.8888888888888888,
              "#fdca26"
             ],
             [
              1,
              "#f0f921"
             ]
            ],
            "type": "heatmap"
           }
          ],
          "heatmapgl": [
           {
            "colorbar": {
             "outlinewidth": 0,
             "ticks": ""
            },
            "colorscale": [
             [
              0,
              "#0d0887"
             ],
             [
              0.1111111111111111,
              "#46039f"
             ],
             [
              0.2222222222222222,
              "#7201a8"
             ],
             [
              0.3333333333333333,
              "#9c179e"
             ],
             [
              0.4444444444444444,
              "#bd3786"
             ],
             [
              0.5555555555555556,
              "#d8576b"
             ],
             [
              0.6666666666666666,
              "#ed7953"
             ],
             [
              0.7777777777777778,
              "#fb9f3a"
             ],
             [
              0.8888888888888888,
              "#fdca26"
             ],
             [
              1,
              "#f0f921"
             ]
            ],
            "type": "heatmapgl"
           }
          ],
          "histogram": [
           {
            "marker": {
             "pattern": {
              "fillmode": "overlay",
              "size": 10,
              "solidity": 0.2
             }
            },
            "type": "histogram"
           }
          ],
          "histogram2d": [
           {
            "colorbar": {
             "outlinewidth": 0,
             "ticks": ""
            },
            "colorscale": [
             [
              0,
              "#0d0887"
             ],
             [
              0.1111111111111111,
              "#46039f"
             ],
             [
              0.2222222222222222,
              "#7201a8"
             ],
             [
              0.3333333333333333,
              "#9c179e"
             ],
             [
              0.4444444444444444,
              "#bd3786"
             ],
             [
              0.5555555555555556,
              "#d8576b"
             ],
             [
              0.6666666666666666,
              "#ed7953"
             ],
             [
              0.7777777777777778,
              "#fb9f3a"
             ],
             [
              0.8888888888888888,
              "#fdca26"
             ],
             [
              1,
              "#f0f921"
             ]
            ],
            "type": "histogram2d"
           }
          ],
          "histogram2dcontour": [
           {
            "colorbar": {
             "outlinewidth": 0,
             "ticks": ""
            },
            "colorscale": [
             [
              0,
              "#0d0887"
             ],
             [
              0.1111111111111111,
              "#46039f"
             ],
             [
              0.2222222222222222,
              "#7201a8"
             ],
             [
              0.3333333333333333,
              "#9c179e"
             ],
             [
              0.4444444444444444,
              "#bd3786"
             ],
             [
              0.5555555555555556,
              "#d8576b"
             ],
             [
              0.6666666666666666,
              "#ed7953"
             ],
             [
              0.7777777777777778,
              "#fb9f3a"
             ],
             [
              0.8888888888888888,
              "#fdca26"
             ],
             [
              1,
              "#f0f921"
             ]
            ],
            "type": "histogram2dcontour"
           }
          ],
          "mesh3d": [
           {
            "colorbar": {
             "outlinewidth": 0,
             "ticks": ""
            },
            "type": "mesh3d"
           }
          ],
          "parcoords": [
           {
            "line": {
             "colorbar": {
              "outlinewidth": 0,
              "ticks": ""
             }
            },
            "type": "parcoords"
           }
          ],
          "pie": [
           {
            "automargin": true,
            "type": "pie"
           }
          ],
          "scatter": [
           {
            "marker": {
             "colorbar": {
              "outlinewidth": 0,
              "ticks": ""
             }
            },
            "type": "scatter"
           }
          ],
          "scatter3d": [
           {
            "line": {
             "colorbar": {
              "outlinewidth": 0,
              "ticks": ""
             }
            },
            "marker": {
             "colorbar": {
              "outlinewidth": 0,
              "ticks": ""
             }
            },
            "type": "scatter3d"
           }
          ],
          "scattercarpet": [
           {
            "marker": {
             "colorbar": {
              "outlinewidth": 0,
              "ticks": ""
             }
            },
            "type": "scattercarpet"
           }
          ],
          "scattergeo": [
           {
            "marker": {
             "colorbar": {
              "outlinewidth": 0,
              "ticks": ""
             }
            },
            "type": "scattergeo"
           }
          ],
          "scattergl": [
           {
            "marker": {
             "colorbar": {
              "outlinewidth": 0,
              "ticks": ""
             }
            },
            "type": "scattergl"
           }
          ],
          "scattermapbox": [
           {
            "marker": {
             "colorbar": {
              "outlinewidth": 0,
              "ticks": ""
             }
            },
            "type": "scattermapbox"
           }
          ],
          "scatterpolar": [
           {
            "marker": {
             "colorbar": {
              "outlinewidth": 0,
              "ticks": ""
             }
            },
            "type": "scatterpolar"
           }
          ],
          "scatterpolargl": [
           {
            "marker": {
             "colorbar": {
              "outlinewidth": 0,
              "ticks": ""
             }
            },
            "type": "scatterpolargl"
           }
          ],
          "scatterternary": [
           {
            "marker": {
             "colorbar": {
              "outlinewidth": 0,
              "ticks": ""
             }
            },
            "type": "scatterternary"
           }
          ],
          "surface": [
           {
            "colorbar": {
             "outlinewidth": 0,
             "ticks": ""
            },
            "colorscale": [
             [
              0,
              "#0d0887"
             ],
             [
              0.1111111111111111,
              "#46039f"
             ],
             [
              0.2222222222222222,
              "#7201a8"
             ],
             [
              0.3333333333333333,
              "#9c179e"
             ],
             [
              0.4444444444444444,
              "#bd3786"
             ],
             [
              0.5555555555555556,
              "#d8576b"
             ],
             [
              0.6666666666666666,
              "#ed7953"
             ],
             [
              0.7777777777777778,
              "#fb9f3a"
             ],
             [
              0.8888888888888888,
              "#fdca26"
             ],
             [
              1,
              "#f0f921"
             ]
            ],
            "type": "surface"
           }
          ],
          "table": [
           {
            "cells": {
             "fill": {
              "color": "#EBF0F8"
             },
             "line": {
              "color": "white"
             }
            },
            "header": {
             "fill": {
              "color": "#C8D4E3"
             },
             "line": {
              "color": "white"
             }
            },
            "type": "table"
           }
          ]
         },
         "layout": {
          "annotationdefaults": {
           "arrowcolor": "#2a3f5f",
           "arrowhead": 0,
           "arrowwidth": 1
          },
          "autotypenumbers": "strict",
          "coloraxis": {
           "colorbar": {
            "outlinewidth": 0,
            "ticks": ""
           }
          },
          "colorscale": {
           "diverging": [
            [
             0,
             "#8e0152"
            ],
            [
             0.1,
             "#c51b7d"
            ],
            [
             0.2,
             "#de77ae"
            ],
            [
             0.3,
             "#f1b6da"
            ],
            [
             0.4,
             "#fde0ef"
            ],
            [
             0.5,
             "#f7f7f7"
            ],
            [
             0.6,
             "#e6f5d0"
            ],
            [
             0.7,
             "#b8e186"
            ],
            [
             0.8,
             "#7fbc41"
            ],
            [
             0.9,
             "#4d9221"
            ],
            [
             1,
             "#276419"
            ]
           ],
           "sequential": [
            [
             0,
             "#0d0887"
            ],
            [
             0.1111111111111111,
             "#46039f"
            ],
            [
             0.2222222222222222,
             "#7201a8"
            ],
            [
             0.3333333333333333,
             "#9c179e"
            ],
            [
             0.4444444444444444,
             "#bd3786"
            ],
            [
             0.5555555555555556,
             "#d8576b"
            ],
            [
             0.6666666666666666,
             "#ed7953"
            ],
            [
             0.7777777777777778,
             "#fb9f3a"
            ],
            [
             0.8888888888888888,
             "#fdca26"
            ],
            [
             1,
             "#f0f921"
            ]
           ],
           "sequentialminus": [
            [
             0,
             "#0d0887"
            ],
            [
             0.1111111111111111,
             "#46039f"
            ],
            [
             0.2222222222222222,
             "#7201a8"
            ],
            [
             0.3333333333333333,
             "#9c179e"
            ],
            [
             0.4444444444444444,
             "#bd3786"
            ],
            [
             0.5555555555555556,
             "#d8576b"
            ],
            [
             0.6666666666666666,
             "#ed7953"
            ],
            [
             0.7777777777777778,
             "#fb9f3a"
            ],
            [
             0.8888888888888888,
             "#fdca26"
            ],
            [
             1,
             "#f0f921"
            ]
           ]
          },
          "colorway": [
           "#636efa",
           "#EF553B",
           "#00cc96",
           "#ab63fa",
           "#FFA15A",
           "#19d3f3",
           "#FF6692",
           "#B6E880",
           "#FF97FF",
           "#FECB52"
          ],
          "font": {
           "color": "#2a3f5f"
          },
          "geo": {
           "bgcolor": "white",
           "lakecolor": "white",
           "landcolor": "#E5ECF6",
           "showlakes": true,
           "showland": true,
           "subunitcolor": "white"
          },
          "hoverlabel": {
           "align": "left"
          },
          "hovermode": "closest",
          "mapbox": {
           "style": "light"
          },
          "paper_bgcolor": "white",
          "plot_bgcolor": "#E5ECF6",
          "polar": {
           "angularaxis": {
            "gridcolor": "white",
            "linecolor": "white",
            "ticks": ""
           },
           "bgcolor": "#E5ECF6",
           "radialaxis": {
            "gridcolor": "white",
            "linecolor": "white",
            "ticks": ""
           }
          },
          "scene": {
           "xaxis": {
            "backgroundcolor": "#E5ECF6",
            "gridcolor": "white",
            "gridwidth": 2,
            "linecolor": "white",
            "showbackground": true,
            "ticks": "",
            "zerolinecolor": "white"
           },
           "yaxis": {
            "backgroundcolor": "#E5ECF6",
            "gridcolor": "white",
            "gridwidth": 2,
            "linecolor": "white",
            "showbackground": true,
            "ticks": "",
            "zerolinecolor": "white"
           },
           "zaxis": {
            "backgroundcolor": "#E5ECF6",
            "gridcolor": "white",
            "gridwidth": 2,
            "linecolor": "white",
            "showbackground": true,
            "ticks": "",
            "zerolinecolor": "white"
           }
          },
          "shapedefaults": {
           "line": {
            "color": "#2a3f5f"
           }
          },
          "ternary": {
           "aaxis": {
            "gridcolor": "white",
            "linecolor": "white",
            "ticks": ""
           },
           "baxis": {
            "gridcolor": "white",
            "linecolor": "white",
            "ticks": ""
           },
           "bgcolor": "#E5ECF6",
           "caxis": {
            "gridcolor": "white",
            "linecolor": "white",
            "ticks": ""
           }
          },
          "title": {
           "x": 0.05
          },
          "xaxis": {
           "automargin": true,
           "gridcolor": "white",
           "linecolor": "white",
           "ticks": "",
           "title": {
            "standoff": 15
           },
           "zerolinecolor": "white",
           "zerolinewidth": 2
          },
          "yaxis": {
           "automargin": true,
           "gridcolor": "white",
           "linecolor": "white",
           "ticks": "",
           "title": {
            "standoff": 15
           },
           "zerolinecolor": "white",
           "zerolinewidth": 2
          }
         }
        },
        "width": 1000
       }
      },
      "text/html": [
       "<div>                            <div id=\"9d45d374-7a30-4fc7-9847-dc2bbed726d4\" class=\"plotly-graph-div\" style=\"height:1000px; width:1000px;\"></div>            <script type=\"text/javascript\">                require([\"plotly\"], function(Plotly) {                    window.PLOTLYENV=window.PLOTLYENV || {};                                    if (document.getElementById(\"9d45d374-7a30-4fc7-9847-dc2bbed726d4\")) {                    Plotly.newPlot(                        \"9d45d374-7a30-4fc7-9847-dc2bbed726d4\",                        [{\"branchvalues\":\"total\",\"customdata\":[[371.1101173654982],[143.68072814110675],[173.23657615250534],[182.52186980511857],[-142.60787397929695],[33.18469090909091],[164.7157681163821],[275.0806485584387],[128.24282249792347],[428.9655258181199],[6.263756836725545],[418.0573026460304],[265.55864049460104],[354.93775846419675],[250.24969249005113],[154.87568274343332],[91.09305914261576],[112.85060444126404],[114.33150187473218],[126.87902716607402],[69.39461228148812],[335.2846535137863],[251.40780903891246],[245.13077797734496],[162.50706102054204],[88.07088676795517],[123.96519935831428],[260.9016060163109],[178.1170813961428],[390.5394276757472],[139.5653051658978],[175.05537417558645],[88.18724367109434],[416.91489199302936],[-161.4340600222064],[169.14339622641515],[-12.688282326166492],[145.85622741189601],[190.7767469525544],[186.8827113158701],[35.16734303368547],[66.39089165867689],[255.53051872388303],[88.34808915849615],[143.9360004926501],[126.9745413593974],[89.14729581613607],[193.27607686525087],[173.04376578482584],[196.5659328101353],[79.31070386688926],[179.02720101267488],[139.41898772821997],[97.9675094410876],[-110.56748128240628],[-146.45478053831192],[315.6327636896047],[208.4768891367717],[315.68302709193114],[100.19014890544331],[199.59039769887517],[249.32806330499415],[-168.29719941429764],[106.84976507301725],[206.371877118836],[127.52647448611087],[483.46322419847894],[120.751996765013],[-235.624108036489],[134.8561620326032],[127.26988901944657],[127.38408090364939],[568.573424528344],[234.634176888859],[329.49953088981084],[-1259.5992646249472],[11.261419576416712],[170.1293280787475],[217.71673831662844],[254.8108007767147],[140.09628546081197],[474.5181484880363],[143.0081109547606],[67.59715789903753],[135.1131582713668],[-17.01],[817.6584541388534],[329.40143272681917],[277.22998559349725],[-17.34577462397593],[282.79220871400634],[107.77887775960752],[-403.4259920567188],[242.2883607800656],[170.13455006242194],[128.31737890330464],[-418.40052746878257],[186.5362754483841],[-435.0121850896984],[-151.54615964451895],[3.135133715146333],[51.526434106211475],[-83.28716487510466],[-28.088215434071817],[154.81777394619124],[-866.0161107161015],[394.8213954180304],[66.76491558032309],[120.13978423140288],[276.9834539705535],[102.84183687967837],[278.61658178539295],[422.0934458783524],[86.23462733946978],[133.72556110583636],[14.353835113021775],[424.17095146740684],[144.88955511572925],[197.0950745511677],[-226.74180070564626],[72.93019108280255],[270.0788237160395],[9.352806931041771],[111.54146618094487],[49.99211748776168],[-480.01181021972],[408.67119377229386],[73.70319553951225],[296.4678679669388],[-243.5166245551601],[203.2247080277664],[7.412714497740918],[39.926231279031065],[401.97504237568154],[201.5804777401053],[-450.7626524175354],[-338.3263850703062],[-154.61900344033512],[297.57985896846515],[-143.93996248185775],[331.07247290415404],[564.5614154291701],[375.02023003483123],[33.7623526013692],[295.01253517446355],[355.3837836035544],[113.23120219048904],[-201.1088349700085],[34.33800115703813],[-396.3916358479823],[268.09421039350104],[-309.8142187739784],[207.24586004263293],[245.13077797734496],[97.05480470398594],[134.50307074794836],[101.91219648629483],[564.5614154291701],[267.8952927514273],[116.41816066703183],[375.02023003483123],[260.52000446014165],[143.0081109547606],[269.0063220289582],[176.4146736855069],[209.91043345085825],[83.84328995826739],[33.7623526013692],[70.39454073980016],[295.01253517446355],[191.37636014148168],[207.24586004263293],[245.13077797734496],[116.41816066703183],[176.52742440156564],[107.85240896936023],[332.91908306792504]],\"domain\":{\"x\":[0.0,1.0],\"y\":[0.0,1.0]},\"hovertemplate\":\"labels=%{label}<br>Sales=%{value}<br>parent=%{parent}<br>id=%{id}<br>Profit=%{color}<extra></extra>\",\"ids\":[\"APAC/Central Asia/Afghanistan\",\"EMEA/EMEA/Albania\",\"Africa/Africa/Algeria\",\"Africa/Africa/Angola\",\"LATAM/South/Argentina\",\"EMEA/EMEA/Armenia\",\"APAC/Oceania/Australia\",\"EU/Central/Austria\",\"EMEA/EMEA/Austria\",\"EMEA/EMEA/Azerbaijan\",\"EMEA/EMEA/Bahrain\",\"APAC/Central Asia/Bangladesh\",\"LATAM/Caribbean/Barbados\",\"EMEA/EMEA/Belarus\",\"EU/Central/Belgium\",\"Africa/Africa/Benin\",\"LATAM/South/Bolivia\",\"EMEA/EMEA/Bosnia and Herzegovina\",\"LATAM/South/Brazil\",\"EMEA/EMEA/Bulgaria\",\"Africa/Africa/Burundi\",\"APAC/Southeast Asia/Cambodia\",\"Africa/Africa/Cameroon\",\"Canada/Canada/Canada\",\"Africa/Africa/Central African Republic\",\"Africa/Africa/Chad\",\"LATAM/South/Chile\",\"APAC/North Asia/China\",\"LATAM/South/Colombia\",\"Africa/Africa/Cote d'Ivoire\",\"EMEA/EMEA/Croatia\",\"LATAM/Caribbean/Cuba\",\"EMEA/EMEA/Czech Republic\",\"Africa/Africa/Democratic Republic of the Congo\",\"EU/North/Denmark\",\"Africa/Africa/Djibouti\",\"LATAM/Caribbean/Dominican Republic\",\"LATAM/South/Ecuador\",\"Africa/Africa/Egypt\",\"LATAM/Central/El Salvador\",\"Africa/Africa/Equatorial Guinea\",\"Africa/Africa/Eritrea\",\"EMEA/EMEA/Estonia\",\"Africa/Africa/Ethiopia\",\"EU/North/Finland\",\"EU/Central/France\",\"Africa/Africa/Gabon\",\"EMEA/EMEA/Georgia\",\"EU/Central/Germany\",\"Africa/Africa/Ghana\",\"LATAM/Caribbean/Guadeloupe\",\"LATAM/Central/Guatemala\",\"Africa/Africa/Guinea\",\"Africa/Africa/Guinea-Bissau\",\"LATAM/Caribbean/Haiti\",\"LATAM/Central/Honduras\",\"APAC/North Asia/Hong Kong\",\"EMEA/EMEA/Hungary\",\"APAC/Central Asia/India\",\"APAC/Southeast Asia/Indonesia\",\"EMEA/EMEA/Iran\",\"EMEA/EMEA/Iraq\",\"EU/North/Ireland\",\"EMEA/EMEA/Israel\",\"EU/South/Italy\",\"LATAM/Caribbean/Jamaica\",\"APAC/North Asia/Japan\",\"EMEA/EMEA/Jordan\",\"EMEA/EMEA/Kazakhstan\",\"Africa/Africa/Kenya\",\"EMEA/EMEA/Kyrgyzstan\",\"EMEA/EMEA/Lebanon\",\"Africa/Africa/Lesotho\",\"Africa/Africa/Liberia\",\"Africa/Africa/Libya\",\"EMEA/EMEA/Lithuania\",\"EMEA/EMEA/Macedonia\",\"Africa/Africa/Madagascar\",\"APAC/Southeast Asia/Malaysia\",\"Africa/Africa/Mali\",\"LATAM/Caribbean/Martinique\",\"Africa/Africa/Mauritania\",\"LATAM/North/Mexico\",\"EMEA/EMEA/Moldova\",\"EMEA/EMEA/Mongolia\",\"APAC/North Asia/Mongolia\",\"EMEA/EMEA/Montenegro\",\"Africa/Africa/Morocco\",\"Africa/Africa/Mozambique\",\"APAC/Southeast Asia/Myanmar (Burma)\",\"Africa/Africa/Namibia\",\"APAC/Central Asia/Nepal\",\"EU/Central/Netherlands\",\"APAC/Oceania/New Zealand\",\"LATAM/Central/Nicaragua\",\"Africa/Africa/Niger\",\"Africa/Africa/Nigeria\",\"EU/North/Norway\",\"APAC/Central Asia/Pakistan\",\"LATAM/Central/Panama\",\"APAC/Oceania/Papua New Guinea\",\"LATAM/South/Paraguay\",\"LATAM/South/Peru\",\"APAC/Southeast Asia/Philippines\",\"EMEA/EMEA/Poland\",\"EU/South/Portugal\",\"EMEA/EMEA/Qatar\",\"Africa/Africa/Republic of the Congo\",\"EMEA/EMEA/Romania\",\"EMEA/EMEA/Russia\",\"Africa/Africa/Rwanda\",\"EMEA/EMEA/Saudi Arabia\",\"Africa/Africa/Senegal\",\"Africa/Africa/Sierra Leone\",\"APAC/Southeast Asia/Singapore\",\"EMEA/EMEA/Slovakia\",\"EMEA/EMEA/Slovenia\",\"Africa/Africa/Somalia\",\"Africa/Africa/South Africa\",\"APAC/North Asia/South Korea\",\"Africa/Africa/South Sudan\",\"EU/South/Spain\",\"APAC/Central Asia/Sri Lanka\",\"Africa/Africa/Sudan\",\"Africa/Africa/Swaziland\",\"EU/North/Sweden\",\"EU/Central/Switzerland\",\"EMEA/EMEA/Syria\",\"APAC/North Asia/Taiwan\",\"EMEA/EMEA/Tajikistan\",\"Africa/Africa/Tanzania\",\"APAC/Southeast Asia/Thailand\",\"Africa/Africa/Togo\",\"LATAM/Caribbean/Trinidad and Tobago\",\"Africa/Africa/Tunisia\",\"EMEA/EMEA/Turkey\",\"EMEA/EMEA/Turkmenistan\",\"Africa/Africa/Uganda\",\"EMEA/EMEA/Ukraine\",\"EMEA/EMEA/United Arab Emirates\",\"EU/North/United Kingdom\",\"US/Central/United States\",\"US/East/United States\",\"US/South/United States\",\"US/West/United States\",\"LATAM/South/Uruguay\",\"EMEA/EMEA/Uzbekistan\",\"LATAM/South/Venezuela\",\"APAC/Southeast Asia/Vietnam\",\"EMEA/EMEA/Yemen\",\"Africa/Africa/Zambia\",\"Africa/Africa/Zimbabwe\",\"Africa/Africa\",\"Canada/Canada\",\"LATAM/Caribbean\",\"EU/Central\",\"LATAM/Central\",\"US/Central\",\"APAC/Central Asia\",\"EMEA/EMEA\",\"US/East\",\"EU/North\",\"LATAM/North\",\"APAC/North Asia\",\"APAC/Oceania\",\"EU/South\",\"LATAM/South\",\"US/South\",\"APAC/Southeast Asia\",\"US/West\",\"APAC\",\"Africa\",\"Canada\",\"EMEA\",\"EU\",\"LATAM\",\"US\"],\"labels\":[\"Afghanistan\",\"Albania\",\"Algeria\",\"Angola\",\"Argentina\",\"Armenia\",\"Australia\",\"Austria\",\"Austria\",\"Azerbaijan\",\"Bahrain\",\"Bangladesh\",\"Barbados\",\"Belarus\",\"Belgium\",\"Benin\",\"Bolivia\",\"Bosnia and Herzegovina\",\"Brazil\",\"Bulgaria\",\"Burundi\",\"Cambodia\",\"Cameroon\",\"Canada\",\"Central African Republic\",\"Chad\",\"Chile\",\"China\",\"Colombia\",\"Cote d'Ivoire\",\"Croatia\",\"Cuba\",\"Czech Republic\",\"Democratic Republic of the Congo\",\"Denmark\",\"Djibouti\",\"Dominican Republic\",\"Ecuador\",\"Egypt\",\"El Salvador\",\"Equatorial Guinea\",\"Eritrea\",\"Estonia\",\"Ethiopia\",\"Finland\",\"France\",\"Gabon\",\"Georgia\",\"Germany\",\"Ghana\",\"Guadeloupe\",\"Guatemala\",\"Guinea\",\"Guinea-Bissau\",\"Haiti\",\"Honduras\",\"Hong Kong\",\"Hungary\",\"India\",\"Indonesia\",\"Iran\",\"Iraq\",\"Ireland\",\"Israel\",\"Italy\",\"Jamaica\",\"Japan\",\"Jordan\",\"Kazakhstan\",\"Kenya\",\"Kyrgyzstan\",\"Lebanon\",\"Lesotho\",\"Liberia\",\"Libya\",\"Lithuania\",\"Macedonia\",\"Madagascar\",\"Malaysia\",\"Mali\",\"Martinique\",\"Mauritania\",\"Mexico\",\"Moldova\",\"Mongolia\",\"Mongolia\",\"Montenegro\",\"Morocco\",\"Mozambique\",\"Myanmar (Burma)\",\"Namibia\",\"Nepal\",\"Netherlands\",\"New Zealand\",\"Nicaragua\",\"Niger\",\"Nigeria\",\"Norway\",\"Pakistan\",\"Panama\",\"Papua New Guinea\",\"Paraguay\",\"Peru\",\"Philippines\",\"Poland\",\"Portugal\",\"Qatar\",\"Republic of the Congo\",\"Romania\",\"Russia\",\"Rwanda\",\"Saudi Arabia\",\"Senegal\",\"Sierra Leone\",\"Singapore\",\"Slovakia\",\"Slovenia\",\"Somalia\",\"South Africa\",\"South Korea\",\"South Sudan\",\"Spain\",\"Sri Lanka\",\"Sudan\",\"Swaziland\",\"Sweden\",\"Switzerland\",\"Syria\",\"Taiwan\",\"Tajikistan\",\"Tanzania\",\"Thailand\",\"Togo\",\"Trinidad and Tobago\",\"Tunisia\",\"Turkey\",\"Turkmenistan\",\"Uganda\",\"Ukraine\",\"United Arab Emirates\",\"United Kingdom\",\"United States\",\"United States\",\"United States\",\"United States\",\"Uruguay\",\"Uzbekistan\",\"Venezuela\",\"Vietnam\",\"Yemen\",\"Zambia\",\"Zimbabwe\",\"Africa\",\"Canada\",\"Caribbean\",\"Central\",\"Central\",\"Central\",\"Central Asia\",\"EMEA\",\"East\",\"North\",\"North\",\"North Asia\",\"Oceania\",\"South\",\"South\",\"South\",\"Southeast Asia\",\"West\",\"APAC\",\"Africa\",\"Canada\",\"EMEA\",\"EU\",\"LATAM\",\"US\"],\"marker\":{\"coloraxis\":\"coloraxis\",\"colors\":[371.1101173654982,143.68072814110675,173.23657615250534,182.52186980511857,-142.60787397929695,33.18469090909091,164.7157681163821,275.0806485584387,128.24282249792347,428.9655258181199,6.263756836725545,418.0573026460304,265.55864049460104,354.93775846419675,250.24969249005113,154.87568274343332,91.09305914261576,112.85060444126404,114.33150187473218,126.87902716607402,69.39461228148812,335.2846535137863,251.40780903891246,245.13077797734496,162.50706102054204,88.07088676795517,123.96519935831428,260.9016060163109,178.1170813961428,390.5394276757472,139.5653051658978,175.05537417558645,88.18724367109434,416.91489199302936,-161.4340600222064,169.14339622641515,-12.688282326166492,145.85622741189601,190.7767469525544,186.8827113158701,35.16734303368547,66.39089165867689,255.53051872388303,88.34808915849615,143.9360004926501,126.9745413593974,89.14729581613607,193.27607686525087,173.04376578482584,196.5659328101353,79.31070386688926,179.02720101267488,139.41898772821997,97.9675094410876,-110.56748128240628,-146.45478053831192,315.6327636896047,208.4768891367717,315.68302709193114,100.19014890544331,199.59039769887517,249.32806330499415,-168.29719941429764,106.84976507301725,206.371877118836,127.52647448611087,483.46322419847894,120.751996765013,-235.624108036489,134.8561620326032,127.26988901944657,127.38408090364939,568.573424528344,234.634176888859,329.49953088981084,-1259.5992646249472,11.261419576416712,170.1293280787475,217.71673831662844,254.8108007767147,140.09628546081197,474.5181484880363,143.0081109547606,67.59715789903753,135.1131582713668,-17.01,817.6584541388534,329.40143272681917,277.22998559349725,-17.34577462397593,282.79220871400634,107.77887775960752,-403.4259920567188,242.2883607800656,170.13455006242194,128.31737890330464,-418.40052746878257,186.5362754483841,-435.0121850896984,-151.54615964451895,3.135133715146333,51.526434106211475,-83.28716487510466,-28.088215434071817,154.81777394619124,-866.0161107161015,394.8213954180304,66.76491558032309,120.13978423140288,276.9834539705535,102.84183687967837,278.61658178539295,422.0934458783524,86.23462733946978,133.72556110583636,14.353835113021775,424.17095146740684,144.88955511572925,197.0950745511677,-226.74180070564626,72.93019108280255,270.0788237160395,9.352806931041771,111.54146618094487,49.99211748776168,-480.01181021972,408.67119377229386,73.70319553951225,296.4678679669388,-243.5166245551601,203.2247080277664,7.412714497740918,39.926231279031065,401.97504237568154,201.5804777401053,-450.7626524175354,-338.3263850703062,-154.61900344033512,297.57985896846515,-143.93996248185775,331.07247290415404,564.5614154291701,375.02023003483123,33.7623526013692,295.01253517446355,355.3837836035544,113.23120219048904,-201.1088349700085,34.33800115703813,-396.3916358479823,268.09421039350104,-309.8142187739784,207.24586004263293,245.13077797734496,97.05480470398594,134.50307074794836,101.91219648629483,564.5614154291701,267.8952927514273,116.41816066703183,375.02023003483123,260.52000446014165,143.0081109547606,269.0063220289582,176.4146736855069,209.91043345085825,83.84328995826739,33.7623526013692,70.39454073980016,295.01253517446355,191.37636014148168,207.24586004263293,245.13077797734496,116.41816066703183,176.52742440156564,107.85240896936023,332.91908306792504]},\"name\":\"\",\"parents\":[\"APAC/Central Asia\",\"EMEA/EMEA\",\"Africa/Africa\",\"Africa/Africa\",\"LATAM/South\",\"EMEA/EMEA\",\"APAC/Oceania\",\"EU/Central\",\"EMEA/EMEA\",\"EMEA/EMEA\",\"EMEA/EMEA\",\"APAC/Central Asia\",\"LATAM/Caribbean\",\"EMEA/EMEA\",\"EU/Central\",\"Africa/Africa\",\"LATAM/South\",\"EMEA/EMEA\",\"LATAM/South\",\"EMEA/EMEA\",\"Africa/Africa\",\"APAC/Southeast Asia\",\"Africa/Africa\",\"Canada/Canada\",\"Africa/Africa\",\"Africa/Africa\",\"LATAM/South\",\"APAC/North Asia\",\"LATAM/South\",\"Africa/Africa\",\"EMEA/EMEA\",\"LATAM/Caribbean\",\"EMEA/EMEA\",\"Africa/Africa\",\"EU/North\",\"Africa/Africa\",\"LATAM/Caribbean\",\"LATAM/South\",\"Africa/Africa\",\"LATAM/Central\",\"Africa/Africa\",\"Africa/Africa\",\"EMEA/EMEA\",\"Africa/Africa\",\"EU/North\",\"EU/Central\",\"Africa/Africa\",\"EMEA/EMEA\",\"EU/Central\",\"Africa/Africa\",\"LATAM/Caribbean\",\"LATAM/Central\",\"Africa/Africa\",\"Africa/Africa\",\"LATAM/Caribbean\",\"LATAM/Central\",\"APAC/North Asia\",\"EMEA/EMEA\",\"APAC/Central Asia\",\"APAC/Southeast Asia\",\"EMEA/EMEA\",\"EMEA/EMEA\",\"EU/North\",\"EMEA/EMEA\",\"EU/South\",\"LATAM/Caribbean\",\"APAC/North Asia\",\"EMEA/EMEA\",\"EMEA/EMEA\",\"Africa/Africa\",\"EMEA/EMEA\",\"EMEA/EMEA\",\"Africa/Africa\",\"Africa/Africa\",\"Africa/Africa\",\"EMEA/EMEA\",\"EMEA/EMEA\",\"Africa/Africa\",\"APAC/Southeast Asia\",\"Africa/Africa\",\"LATAM/Caribbean\",\"Africa/Africa\",\"LATAM/North\",\"EMEA/EMEA\",\"EMEA/EMEA\",\"APAC/North Asia\",\"EMEA/EMEA\",\"Africa/Africa\",\"Africa/Africa\",\"APAC/Southeast Asia\",\"Africa/Africa\",\"APAC/Central Asia\",\"EU/Central\",\"APAC/Oceania\",\"LATAM/Central\",\"Africa/Africa\",\"Africa/Africa\",\"EU/North\",\"APAC/Central Asia\",\"LATAM/Central\",\"APAC/Oceania\",\"LATAM/South\",\"LATAM/South\",\"APAC/Southeast Asia\",\"EMEA/EMEA\",\"EU/South\",\"EMEA/EMEA\",\"Africa/Africa\",\"EMEA/EMEA\",\"EMEA/EMEA\",\"Africa/Africa\",\"EMEA/EMEA\",\"Africa/Africa\",\"Africa/Africa\",\"APAC/Southeast Asia\",\"EMEA/EMEA\",\"EMEA/EMEA\",\"Africa/Africa\",\"Africa/Africa\",\"APAC/North Asia\",\"Africa/Africa\",\"EU/South\",\"APAC/Central Asia\",\"Africa/Africa\",\"Africa/Africa\",\"EU/North\",\"EU/Central\",\"EMEA/EMEA\",\"APAC/North Asia\",\"EMEA/EMEA\",\"Africa/Africa\",\"APAC/Southeast Asia\",\"Africa/Africa\",\"LATAM/Caribbean\",\"Africa/Africa\",\"EMEA/EMEA\",\"EMEA/EMEA\",\"Africa/Africa\",\"EMEA/EMEA\",\"EMEA/EMEA\",\"EU/North\",\"US/Central\",\"US/East\",\"US/South\",\"US/West\",\"LATAM/South\",\"EMEA/EMEA\",\"LATAM/South\",\"APAC/Southeast Asia\",\"EMEA/EMEA\",\"Africa/Africa\",\"Africa/Africa\",\"Africa\",\"Canada\",\"LATAM\",\"EU\",\"LATAM\",\"US\",\"APAC\",\"EMEA\",\"US\",\"EU\",\"LATAM\",\"APAC\",\"APAC\",\"EU\",\"LATAM\",\"US\",\"APAC\",\"US\",\"\",\"\",\"\",\"\",\"\",\"\",\"\"],\"type\":\"sunburst\",\"values\":[21673.32,3888.12,36091.59,25554.0,57511.78328,156.75,925235.853,81162.0,11377.05,5631.51,669.18,78256.47,7174.27392,13386.09,49226.7,6212.070000000001,11588.97,2599.26,361106.41896,15557.64,267.72,17476.02,22349.37,66928.17,2377.56,1317.03,35447.07072,700562.025,81502.52976,25618.17,4461.18,158854.93548,9573.93,87416.58,8638.053,2392.95,126140.58128,13342.98036,84139.32,177554.9032,150.51,187.73999999999998,4479.84,850.62,20704.35,858931.083,1751.73,5427.42,628840.0305,23272.26,1461.64,131602.46676,3498.27,2065.44,11038.329,90125.6486,6147.0,14254.050000000001,589650.105,404887.4979,113746.11,70714.8,16639.509000000002,19294.079999999998,289709.658,6761.7858400000005,100787.517,7326.15,4605.4439999999995,17573.13,5106.3,2796.66,6711.99,3560.88,7808.4,6724.332,209.64,12617.55,61362.21,8914.47,5968.15104,4020.9300000000003,622590.61752,5139.93,6749.61,40.23,4004.37,87077.94,21302.88,34138.8717,2899.47,3522.24,77514.945,172020.624,149687.06456,6922.98,54350.352,20525.37,58872.612,51539.92752,2928.135,2590.3675200000002,17833.18372,183420.165,44228.85,15105.119999999999,6049.8,2713.23,37256.58,82913.88,5194.08,82012.2,28848.9,2447.67,40286.25,865.3199999999999,1469.94,8185.05,95292.27,33125.379,1045.6200000000001,287146.68,851.8199999999999,16338.57,288.03000000000003,30491.403,24877.86,5310.63,7647.63,242.784,26816.139,77051.955,4146.42,6881.16448,1760.79,108507.948,2027.061,1621.935,86857.17,744.12,528576.3,501239.8908,678781.24,391721.905,725457.8245,9712.544,7329.87,26587.82956,65800.1994,2465.712,26035.5,3765.105,783773.211,66928.17,324280.86104,1720552.6185,600510.01064,501239.8908,752826.567,806161.311,678781.24,625574.985,622590.61752,848309.781,1100184.612,591961.458,617223.67788,391721.905,884423.169,725457.8245,3585744.129,783773.211,66928.17,806161.311,2938089.0615,2164605.16708,2297200.8603]}],                        {\"coloraxis\":{\"colorbar\":{\"title\":{\"text\":\"Profit\"}},\"colorscale\":[[0.0,\"rgb(103,0,31)\"],[0.1,\"rgb(178,24,43)\"],[0.2,\"rgb(214,96,77)\"],[0.3,\"rgb(244,165,130)\"],[0.4,\"rgb(253,219,199)\"],[0.5,\"rgb(247,247,247)\"],[0.6,\"rgb(209,229,240)\"],[0.7,\"rgb(146,197,222)\"],[0.8,\"rgb(67,147,195)\"],[0.9,\"rgb(33,102,172)\"],[1.0,\"rgb(5,48,97)\"]]},\"height\":1000,\"legend\":{\"tracegroupgap\":0},\"margin\":{\"t\":60},\"template\":{\"data\":{\"bar\":[{\"error_x\":{\"color\":\"#2a3f5f\"},\"error_y\":{\"color\":\"#2a3f5f\"},\"marker\":{\"line\":{\"color\":\"#E5ECF6\",\"width\":0.5},\"pattern\":{\"fillmode\":\"overlay\",\"size\":10,\"solidity\":0.2}},\"type\":\"bar\"}],\"barpolar\":[{\"marker\":{\"line\":{\"color\":\"#E5ECF6\",\"width\":0.5},\"pattern\":{\"fillmode\":\"overlay\",\"size\":10,\"solidity\":0.2}},\"type\":\"barpolar\"}],\"carpet\":[{\"aaxis\":{\"endlinecolor\":\"#2a3f5f\",\"gridcolor\":\"white\",\"linecolor\":\"white\",\"minorgridcolor\":\"white\",\"startlinecolor\":\"#2a3f5f\"},\"baxis\":{\"endlinecolor\":\"#2a3f5f\",\"gridcolor\":\"white\",\"linecolor\":\"white\",\"minorgridcolor\":\"white\",\"startlinecolor\":\"#2a3f5f\"},\"type\":\"carpet\"}],\"choropleth\":[{\"colorbar\":{\"outlinewidth\":0,\"ticks\":\"\"},\"type\":\"choropleth\"}],\"contour\":[{\"colorbar\":{\"outlinewidth\":0,\"ticks\":\"\"},\"colorscale\":[[0.0,\"#0d0887\"],[0.1111111111111111,\"#46039f\"],[0.2222222222222222,\"#7201a8\"],[0.3333333333333333,\"#9c179e\"],[0.4444444444444444,\"#bd3786\"],[0.5555555555555556,\"#d8576b\"],[0.6666666666666666,\"#ed7953\"],[0.7777777777777778,\"#fb9f3a\"],[0.8888888888888888,\"#fdca26\"],[1.0,\"#f0f921\"]],\"type\":\"contour\"}],\"contourcarpet\":[{\"colorbar\":{\"outlinewidth\":0,\"ticks\":\"\"},\"type\":\"contourcarpet\"}],\"heatmap\":[{\"colorbar\":{\"outlinewidth\":0,\"ticks\":\"\"},\"colorscale\":[[0.0,\"#0d0887\"],[0.1111111111111111,\"#46039f\"],[0.2222222222222222,\"#7201a8\"],[0.3333333333333333,\"#9c179e\"],[0.4444444444444444,\"#bd3786\"],[0.5555555555555556,\"#d8576b\"],[0.6666666666666666,\"#ed7953\"],[0.7777777777777778,\"#fb9f3a\"],[0.8888888888888888,\"#fdca26\"],[1.0,\"#f0f921\"]],\"type\":\"heatmap\"}],\"heatmapgl\":[{\"colorbar\":{\"outlinewidth\":0,\"ticks\":\"\"},\"colorscale\":[[0.0,\"#0d0887\"],[0.1111111111111111,\"#46039f\"],[0.2222222222222222,\"#7201a8\"],[0.3333333333333333,\"#9c179e\"],[0.4444444444444444,\"#bd3786\"],[0.5555555555555556,\"#d8576b\"],[0.6666666666666666,\"#ed7953\"],[0.7777777777777778,\"#fb9f3a\"],[0.8888888888888888,\"#fdca26\"],[1.0,\"#f0f921\"]],\"type\":\"heatmapgl\"}],\"histogram\":[{\"marker\":{\"pattern\":{\"fillmode\":\"overlay\",\"size\":10,\"solidity\":0.2}},\"type\":\"histogram\"}],\"histogram2d\":[{\"colorbar\":{\"outlinewidth\":0,\"ticks\":\"\"},\"colorscale\":[[0.0,\"#0d0887\"],[0.1111111111111111,\"#46039f\"],[0.2222222222222222,\"#7201a8\"],[0.3333333333333333,\"#9c179e\"],[0.4444444444444444,\"#bd3786\"],[0.5555555555555556,\"#d8576b\"],[0.6666666666666666,\"#ed7953\"],[0.7777777777777778,\"#fb9f3a\"],[0.8888888888888888,\"#fdca26\"],[1.0,\"#f0f921\"]],\"type\":\"histogram2d\"}],\"histogram2dcontour\":[{\"colorbar\":{\"outlinewidth\":0,\"ticks\":\"\"},\"colorscale\":[[0.0,\"#0d0887\"],[0.1111111111111111,\"#46039f\"],[0.2222222222222222,\"#7201a8\"],[0.3333333333333333,\"#9c179e\"],[0.4444444444444444,\"#bd3786\"],[0.5555555555555556,\"#d8576b\"],[0.6666666666666666,\"#ed7953\"],[0.7777777777777778,\"#fb9f3a\"],[0.8888888888888888,\"#fdca26\"],[1.0,\"#f0f921\"]],\"type\":\"histogram2dcontour\"}],\"mesh3d\":[{\"colorbar\":{\"outlinewidth\":0,\"ticks\":\"\"},\"type\":\"mesh3d\"}],\"parcoords\":[{\"line\":{\"colorbar\":{\"outlinewidth\":0,\"ticks\":\"\"}},\"type\":\"parcoords\"}],\"pie\":[{\"automargin\":true,\"type\":\"pie\"}],\"scatter\":[{\"marker\":{\"colorbar\":{\"outlinewidth\":0,\"ticks\":\"\"}},\"type\":\"scatter\"}],\"scatter3d\":[{\"line\":{\"colorbar\":{\"outlinewidth\":0,\"ticks\":\"\"}},\"marker\":{\"colorbar\":{\"outlinewidth\":0,\"ticks\":\"\"}},\"type\":\"scatter3d\"}],\"scattercarpet\":[{\"marker\":{\"colorbar\":{\"outlinewidth\":0,\"ticks\":\"\"}},\"type\":\"scattercarpet\"}],\"scattergeo\":[{\"marker\":{\"colorbar\":{\"outlinewidth\":0,\"ticks\":\"\"}},\"type\":\"scattergeo\"}],\"scattergl\":[{\"marker\":{\"colorbar\":{\"outlinewidth\":0,\"ticks\":\"\"}},\"type\":\"scattergl\"}],\"scattermapbox\":[{\"marker\":{\"colorbar\":{\"outlinewidth\":0,\"ticks\":\"\"}},\"type\":\"scattermapbox\"}],\"scatterpolar\":[{\"marker\":{\"colorbar\":{\"outlinewidth\":0,\"ticks\":\"\"}},\"type\":\"scatterpolar\"}],\"scatterpolargl\":[{\"marker\":{\"colorbar\":{\"outlinewidth\":0,\"ticks\":\"\"}},\"type\":\"scatterpolargl\"}],\"scatterternary\":[{\"marker\":{\"colorbar\":{\"outlinewidth\":0,\"ticks\":\"\"}},\"type\":\"scatterternary\"}],\"surface\":[{\"colorbar\":{\"outlinewidth\":0,\"ticks\":\"\"},\"colorscale\":[[0.0,\"#0d0887\"],[0.1111111111111111,\"#46039f\"],[0.2222222222222222,\"#7201a8\"],[0.3333333333333333,\"#9c179e\"],[0.4444444444444444,\"#bd3786\"],[0.5555555555555556,\"#d8576b\"],[0.6666666666666666,\"#ed7953\"],[0.7777777777777778,\"#fb9f3a\"],[0.8888888888888888,\"#fdca26\"],[1.0,\"#f0f921\"]],\"type\":\"surface\"}],\"table\":[{\"cells\":{\"fill\":{\"color\":\"#EBF0F8\"},\"line\":{\"color\":\"white\"}},\"header\":{\"fill\":{\"color\":\"#C8D4E3\"},\"line\":{\"color\":\"white\"}},\"type\":\"table\"}]},\"layout\":{\"annotationdefaults\":{\"arrowcolor\":\"#2a3f5f\",\"arrowhead\":0,\"arrowwidth\":1},\"autotypenumbers\":\"strict\",\"coloraxis\":{\"colorbar\":{\"outlinewidth\":0,\"ticks\":\"\"}},\"colorscale\":{\"diverging\":[[0,\"#8e0152\"],[0.1,\"#c51b7d\"],[0.2,\"#de77ae\"],[0.3,\"#f1b6da\"],[0.4,\"#fde0ef\"],[0.5,\"#f7f7f7\"],[0.6,\"#e6f5d0\"],[0.7,\"#b8e186\"],[0.8,\"#7fbc41\"],[0.9,\"#4d9221\"],[1,\"#276419\"]],\"sequential\":[[0.0,\"#0d0887\"],[0.1111111111111111,\"#46039f\"],[0.2222222222222222,\"#7201a8\"],[0.3333333333333333,\"#9c179e\"],[0.4444444444444444,\"#bd3786\"],[0.5555555555555556,\"#d8576b\"],[0.6666666666666666,\"#ed7953\"],[0.7777777777777778,\"#fb9f3a\"],[0.8888888888888888,\"#fdca26\"],[1.0,\"#f0f921\"]],\"sequentialminus\":[[0.0,\"#0d0887\"],[0.1111111111111111,\"#46039f\"],[0.2222222222222222,\"#7201a8\"],[0.3333333333333333,\"#9c179e\"],[0.4444444444444444,\"#bd3786\"],[0.5555555555555556,\"#d8576b\"],[0.6666666666666666,\"#ed7953\"],[0.7777777777777778,\"#fb9f3a\"],[0.8888888888888888,\"#fdca26\"],[1.0,\"#f0f921\"]]},\"colorway\":[\"#636efa\",\"#EF553B\",\"#00cc96\",\"#ab63fa\",\"#FFA15A\",\"#19d3f3\",\"#FF6692\",\"#B6E880\",\"#FF97FF\",\"#FECB52\"],\"font\":{\"color\":\"#2a3f5f\"},\"geo\":{\"bgcolor\":\"white\",\"lakecolor\":\"white\",\"landcolor\":\"#E5ECF6\",\"showlakes\":true,\"showland\":true,\"subunitcolor\":\"white\"},\"hoverlabel\":{\"align\":\"left\"},\"hovermode\":\"closest\",\"mapbox\":{\"style\":\"light\"},\"paper_bgcolor\":\"white\",\"plot_bgcolor\":\"#E5ECF6\",\"polar\":{\"angularaxis\":{\"gridcolor\":\"white\",\"linecolor\":\"white\",\"ticks\":\"\"},\"bgcolor\":\"#E5ECF6\",\"radialaxis\":{\"gridcolor\":\"white\",\"linecolor\":\"white\",\"ticks\":\"\"}},\"scene\":{\"xaxis\":{\"backgroundcolor\":\"#E5ECF6\",\"gridcolor\":\"white\",\"gridwidth\":2,\"linecolor\":\"white\",\"showbackground\":true,\"ticks\":\"\",\"zerolinecolor\":\"white\"},\"yaxis\":{\"backgroundcolor\":\"#E5ECF6\",\"gridcolor\":\"white\",\"gridwidth\":2,\"linecolor\":\"white\",\"showbackground\":true,\"ticks\":\"\",\"zerolinecolor\":\"white\"},\"zaxis\":{\"backgroundcolor\":\"#E5ECF6\",\"gridcolor\":\"white\",\"gridwidth\":2,\"linecolor\":\"white\",\"showbackground\":true,\"ticks\":\"\",\"zerolinecolor\":\"white\"}},\"shapedefaults\":{\"line\":{\"color\":\"#2a3f5f\"}},\"ternary\":{\"aaxis\":{\"gridcolor\":\"white\",\"linecolor\":\"white\",\"ticks\":\"\"},\"baxis\":{\"gridcolor\":\"white\",\"linecolor\":\"white\",\"ticks\":\"\"},\"bgcolor\":\"#E5ECF6\",\"caxis\":{\"gridcolor\":\"white\",\"linecolor\":\"white\",\"ticks\":\"\"}},\"title\":{\"x\":0.05},\"xaxis\":{\"automargin\":true,\"gridcolor\":\"white\",\"linecolor\":\"white\",\"ticks\":\"\",\"title\":{\"standoff\":15},\"zerolinecolor\":\"white\",\"zerolinewidth\":2},\"yaxis\":{\"automargin\":true,\"gridcolor\":\"white\",\"linecolor\":\"white\",\"ticks\":\"\",\"title\":{\"standoff\":15},\"zerolinecolor\":\"white\",\"zerolinewidth\":2}}},\"width\":1000},                        {\"responsive\": true}                    ).then(function(){\n",
       "                            \n",
       "var gd = document.getElementById('9d45d374-7a30-4fc7-9847-dc2bbed726d4');\n",
       "var x = new MutationObserver(function (mutations, observer) {{\n",
       "        var display = window.getComputedStyle(gd).display;\n",
       "        if (!display || display === 'none') {{\n",
       "            console.log([gd, 'removed!']);\n",
       "            Plotly.purge(gd);\n",
       "            observer.disconnect();\n",
       "        }}\n",
       "}});\n",
       "\n",
       "// Listen for the removal of the full notebook cells\n",
       "var notebookContainer = gd.closest('#notebook-container');\n",
       "if (notebookContainer) {{\n",
       "    x.observe(notebookContainer, {childList: true});\n",
       "}}\n",
       "\n",
       "// Listen for the clearing of the current output cell\n",
       "var outputEl = gd.closest('.output');\n",
       "if (outputEl) {{\n",
       "    x.observe(outputEl, {childList: true});\n",
       "}}\n",
       "\n",
       "                        })                };                });            </script>        </div>"
      ]
     },
     "metadata": {}
    }
   ],
   "metadata": {}
  },
  {
   "cell_type": "code",
   "execution_count": null,
   "source": [],
   "outputs": [],
   "metadata": {}
  }
 ],
 "metadata": {
  "orig_nbformat": 4,
  "language_info": {
   "name": "python",
   "version": "3.8.11",
   "mimetype": "text/x-python",
   "codemirror_mode": {
    "name": "ipython",
    "version": 3
   },
   "pygments_lexer": "ipython3",
   "nbconvert_exporter": "python",
   "file_extension": ".py"
  },
  "kernelspec": {
   "name": "python3",
   "display_name": "Python 3.8.11 64-bit ('temp': conda)"
  },
  "interpreter": {
   "hash": "b5053f4e29fb1c5fc81d185f294cb003981897c969f72165b4d83f320caf7811"
  }
 },
 "nbformat": 4,
 "nbformat_minor": 2
}